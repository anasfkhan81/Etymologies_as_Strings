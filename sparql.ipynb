{
 "cells": [
  {
   "cell_type": "code",
   "execution_count": 24,
   "id": "829e8372",
   "metadata": {},
   "outputs": [],
   "source": [
    "from rdflib import Graph\n"
   ]
  },
  {
   "cell_type": "code",
   "execution_count": 25,
   "id": "36d6e264",
   "metadata": {},
   "outputs": [
    {
     "data": {
      "text/plain": [
       "<Graph identifier=N969068d41c6e4c72bceb65ec0179a28c (<class 'rdflib.graph.Graph'>)>"
      ]
     },
     "execution_count": 25,
     "metadata": {},
     "output_type": "execute_result"
    }
   ],
   "source": [
    "g=Graph()\n",
    "g.parse(\"chamuca_hi_lex.rdf\", format=\"turtle\")"
   ]
  },
  {
   "cell_type": "code",
   "execution_count": 10,
   "id": "807030ac",
   "metadata": {},
   "outputs": [],
   "source": [
    "query = \"\"\"\n",
    "PREFIX lexinfo: <http://www.lexinfo.net/ontology/2.0/lexinfo#>\n",
    "PREFIX ontolex: <http://www.w3.org/ns/lemon/ontolex#>\n",
    "\n",
    "SELECT ?entry ?etymology\n",
    "WHERE {\n",
    "  ?entry a ontolex:LexicalEntry ;\n",
    "         lexinfo:etymology ?etymology .\n",
    "  FILTER regex(?etymology, \"Source: Dalgado\", \"i\")\n",
    "}\n",
    "\"\"\"\n",
    "\n"
   ]
  },
  {
   "cell_type": "code",
   "execution_count": 16,
   "id": "bde24c5b",
   "metadata": {},
   "outputs": [],
   "source": [
    "query = \"\"\"\n",
    "PREFIX lexinfo: <http://www.lexinfo.net/ontology/2.0/lexinfo#>\n",
    "PREFIX ontolex: <http://www.w3.org/ns/lemon/ontolex#>\n",
    "\n",
    "SELECT ?entry ?matchedStep\n",
    "WHERE {\n",
    "?entry a ontolex:LexicalEntry ;\n",
    "        lexinfo:etymology ?etymology .\n",
    "\n",
    "# Extract just the step with \"Source: Dalgado\", stopping at next \" |\" or at period\n",
    "BIND(REPLACE(?etymology, \".*?(\\\\b[^|]*?Source: Dalgado[^|]*?)(\\\\s*\\\\|.*|\\\\s*\\\\.)$\", \"$1\") AS ?matchedStep)\n",
    "\n",
    "FILTER CONTAINS(?matchedStep, \"Source: Dalgado\")\n",
    "}\n",
    "\"\"\""
   ]
  },
  {
   "cell_type": "code",
   "execution_count": 26,
   "id": "7020a47c",
   "metadata": {},
   "outputs": [],
   "source": [
    "query = \"\"\"\n",
    "PREFIX lexinfo: <http://www.lexinfo.net/ontology/2.0/lexinfo#>\n",
    "PREFIX ontolex: <http://www.w3.org/ns/lemon/ontolex#>\n",
    "\n",
    "SELECT ?entry ?etymology\n",
    "WHERE {\n",
    "  ?entry a ontolex:LexicalEntry ;\n",
    "         lexinfo:etymology ?etymology .\n",
    "  FILTER regex(?etymology, \"[^|]*Source: Dalgado\", \"i\")\n",
    "}\n",
    "\"\"\""
   ]
  },
  {
   "cell_type": "code",
   "execution_count": 28,
   "id": "8bbe5e95",
   "metadata": {},
   "outputs": [],
   "source": [
    "query =\"\"\"\n",
    "PREFIX lexinfo: <http://www.lexinfo.net/ontology/2.0/lexinfo#>\n",
    "PREFIX ontolex: <http://www.w3.org/ns/lemon/ontolex#>\n",
    "\n",
    "SELECT ?entry ?matchedStep\n",
    "WHERE {\n",
    "  ?entry a ontolex:LexicalEntry ;\n",
    "         lexinfo:etymology ?etymology .\n",
    "\n",
    "  # Extract just the step with \"Source: Dalgado\", stopping at next \" |\" or at period\n",
    "  BIND(REPLACE(?etymology, \".*?(\\\\b[^|]*?Source: Dalgado[^|]*?)(\\\\s*\\\\|.*|\\\\s*\\\\.)$\", \"$1\") AS ?matchedStep)\n",
    "  \n",
    "  FILTER CONTAINS(?matchedStep, \"Source: Dalgado\")\n",
    "}\n",
    "\"\"\""
   ]
  },
  {
   "cell_type": "code",
   "execution_count": 29,
   "id": "813a0b34",
   "metadata": {},
   "outputs": [
    {
     "ename": "ParseException",
     "evalue": "Expected {SelectQuery | ConstructQuery | DescribeQuery | AskQuery}, found 'BIND'  (at char 316), (line:11, col:3)",
     "output_type": "error",
     "traceback": [
      "\u001b[0;31m---------------------------------------------------------------------------\u001b[0m",
      "\u001b[0;31mParseException\u001b[0m                            Traceback (most recent call last)",
      "Cell \u001b[0;32mIn[29], line 1\u001b[0m\n\u001b[0;32m----> 1\u001b[0m \u001b[38;5;28mprint\u001b[39m(\u001b[43mg\u001b[49m\u001b[38;5;241;43m.\u001b[39;49m\u001b[43mquery\u001b[49m\u001b[43m(\u001b[49m\u001b[43mquery\u001b[49m\u001b[43m)\u001b[49m)\n\u001b[1;32m      3\u001b[0m \u001b[38;5;28;01mfor\u001b[39;00m p \u001b[38;5;129;01min\u001b[39;00m g\u001b[38;5;241m.\u001b[39mquery(query):\n\u001b[1;32m      4\u001b[0m     \u001b[38;5;28mprint\u001b[39m(p)\n",
      "File \u001b[0;32m/Library/Frameworks/Python.framework/Versions/3.11/lib/python3.11/site-packages/rdflib/graph.py:1389\u001b[0m, in \u001b[0;36mGraph.query\u001b[0;34m(self, query_object, processor, result, initNs, initBindings, use_store_provided, **kwargs)\u001b[0m\n\u001b[1;32m   1386\u001b[0m \u001b[38;5;28;01mif\u001b[39;00m \u001b[38;5;129;01mnot\u001b[39;00m \u001b[38;5;28misinstance\u001b[39m(processor, query\u001b[38;5;241m.\u001b[39mProcessor):\n\u001b[1;32m   1387\u001b[0m     processor \u001b[38;5;241m=\u001b[39m plugin\u001b[38;5;241m.\u001b[39mget(processor, query\u001b[38;5;241m.\u001b[39mProcessor)(\u001b[38;5;28mself\u001b[39m)\n\u001b[0;32m-> 1389\u001b[0m \u001b[38;5;28;01mreturn\u001b[39;00m result(\u001b[43mprocessor\u001b[49m\u001b[38;5;241;43m.\u001b[39;49m\u001b[43mquery\u001b[49m\u001b[43m(\u001b[49m\u001b[43mquery_object\u001b[49m\u001b[43m,\u001b[49m\u001b[43m \u001b[49m\u001b[43minitBindings\u001b[49m\u001b[43m,\u001b[49m\u001b[43m \u001b[49m\u001b[43minitNs\u001b[49m\u001b[43m,\u001b[49m\u001b[43m \u001b[49m\u001b[38;5;241;43m*\u001b[39;49m\u001b[38;5;241;43m*\u001b[39;49m\u001b[43mkwargs\u001b[49m\u001b[43m)\u001b[49m)\n",
      "File \u001b[0;32m/Library/Frameworks/Python.framework/Versions/3.11/lib/python3.11/site-packages/rdflib/plugins/sparql/processor.py:77\u001b[0m, in \u001b[0;36mSPARQLProcessor.query\u001b[0;34m(self, strOrQuery, initBindings, initNs, base, DEBUG)\u001b[0m\n\u001b[1;32m     70\u001b[0m \u001b[38;5;250m\u001b[39m\u001b[38;5;124;03m\"\"\"\u001b[39;00m\n\u001b[1;32m     71\u001b[0m \u001b[38;5;124;03mEvaluate a query with the given initial bindings, and initial\u001b[39;00m\n\u001b[1;32m     72\u001b[0m \u001b[38;5;124;03mnamespaces. The given base is used to resolve relative URIs in\u001b[39;00m\n\u001b[1;32m     73\u001b[0m \u001b[38;5;124;03mthe query and will be overridden by any BASE given in the query.\u001b[39;00m\n\u001b[1;32m     74\u001b[0m \u001b[38;5;124;03m\"\"\"\u001b[39;00m\n\u001b[1;32m     76\u001b[0m \u001b[38;5;28;01mif\u001b[39;00m \u001b[38;5;129;01mnot\u001b[39;00m \u001b[38;5;28misinstance\u001b[39m(strOrQuery, Query):\n\u001b[0;32m---> 77\u001b[0m     parsetree \u001b[38;5;241m=\u001b[39m \u001b[43mparseQuery\u001b[49m\u001b[43m(\u001b[49m\u001b[43mstrOrQuery\u001b[49m\u001b[43m)\u001b[49m\n\u001b[1;32m     78\u001b[0m     query \u001b[38;5;241m=\u001b[39m translateQuery(parsetree, base, initNs)\n\u001b[1;32m     79\u001b[0m \u001b[38;5;28;01melse\u001b[39;00m:\n",
      "File \u001b[0;32m/Library/Frameworks/Python.framework/Versions/3.11/lib/python3.11/site-packages/rdflib/plugins/sparql/parser.py:1536\u001b[0m, in \u001b[0;36mparseQuery\u001b[0;34m(q)\u001b[0m\n\u001b[1;32m   1533\u001b[0m     q \u001b[38;5;241m=\u001b[39m q\u001b[38;5;241m.\u001b[39mdecode(\u001b[38;5;124m\"\u001b[39m\u001b[38;5;124mutf-8\u001b[39m\u001b[38;5;124m\"\u001b[39m)\n\u001b[1;32m   1535\u001b[0m q \u001b[38;5;241m=\u001b[39m expandUnicodeEscapes(q)\n\u001b[0;32m-> 1536\u001b[0m \u001b[38;5;28;01mreturn\u001b[39;00m \u001b[43mQuery\u001b[49m\u001b[38;5;241;43m.\u001b[39;49m\u001b[43mparseString\u001b[49m\u001b[43m(\u001b[49m\u001b[43mq\u001b[49m\u001b[43m,\u001b[49m\u001b[43m \u001b[49m\u001b[43mparseAll\u001b[49m\u001b[38;5;241;43m=\u001b[39;49m\u001b[38;5;28;43;01mTrue\u001b[39;49;00m\u001b[43m)\u001b[49m\n",
      "File \u001b[0;32m/Library/Frameworks/Python.framework/Versions/3.11/lib/python3.11/site-packages/pyparsing/core.py:1141\u001b[0m, in \u001b[0;36mParserElement.parse_string\u001b[0;34m(self, instring, parse_all, parseAll)\u001b[0m\n\u001b[1;32m   1138\u001b[0m         \u001b[38;5;28;01mraise\u001b[39;00m\n\u001b[1;32m   1139\u001b[0m     \u001b[38;5;28;01melse\u001b[39;00m:\n\u001b[1;32m   1140\u001b[0m         \u001b[38;5;66;03m# catch and re-raise exception from here, clearing out pyparsing internal stack trace\u001b[39;00m\n\u001b[0;32m-> 1141\u001b[0m         \u001b[38;5;28;01mraise\u001b[39;00m exc\u001b[38;5;241m.\u001b[39mwith_traceback(\u001b[38;5;28;01mNone\u001b[39;00m)\n\u001b[1;32m   1142\u001b[0m \u001b[38;5;28;01melse\u001b[39;00m:\n\u001b[1;32m   1143\u001b[0m     \u001b[38;5;28;01mreturn\u001b[39;00m tokens\n",
      "\u001b[0;31mParseException\u001b[0m: Expected {SelectQuery | ConstructQuery | DescribeQuery | AskQuery}, found 'BIND'  (at char 316), (line:11, col:3)"
     ]
    }
   ],
   "source": [
    "print(g.query(query))\n",
    "\n",
    "for p in g.query(query):\n",
    "    print(p)"
   ]
  },
  {
   "cell_type": "code",
   "execution_count": 11,
   "id": "ae14999b",
   "metadata": {},
   "outputs": [
    {
     "ename": "ValueError",
     "evalue": "not enough values to unpack (expected 3, got 2)",
     "output_type": "error",
     "traceback": [
      "\u001b[0;31m---------------------------------------------------------------------------\u001b[0m",
      "\u001b[0;31mValueError\u001b[0m                                Traceback (most recent call last)",
      "Cell \u001b[0;32mIn[11], line 1\u001b[0m\n\u001b[0;32m----> 1\u001b[0m \u001b[38;5;28;01mfor\u001b[39;00m s, p, o \u001b[38;5;129;01min\u001b[39;00m g\u001b[38;5;241m.\u001b[39mquery(query):\n\u001b[1;32m      2\u001b[0m     \u001b[38;5;28mprint\u001b[39m(\u001b[38;5;124mf\u001b[39m\u001b[38;5;124m\"\u001b[39m\u001b[38;5;132;01m{\u001b[39;00ms\u001b[38;5;132;01m}\u001b[39;00m\u001b[38;5;124m -- \u001b[39m\u001b[38;5;132;01m{\u001b[39;00mp\u001b[38;5;132;01m}\u001b[39;00m\u001b[38;5;124m --> \u001b[39m\u001b[38;5;132;01m{\u001b[39;00mo\u001b[38;5;132;01m}\u001b[39;00m\u001b[38;5;124m\"\u001b[39m)\n",
      "\u001b[0;31mValueError\u001b[0m: not enough values to unpack (expected 3, got 2)"
     ]
    }
   ],
   "source": [
    "for s, p, o in g.query(query):\n",
    "    print(f\"{s} -- {p} --> {o}\")"
   ]
  }
 ],
 "metadata": {
  "kernelspec": {
   "display_name": "Python 3",
   "language": "python",
   "name": "python3"
  },
  "language_info": {
   "codemirror_mode": {
    "name": "ipython",
    "version": 3
   },
   "file_extension": ".py",
   "mimetype": "text/x-python",
   "name": "python",
   "nbconvert_exporter": "python",
   "pygments_lexer": "ipython3",
   "version": "3.11.2"
  }
 },
 "nbformat": 4,
 "nbformat_minor": 5
}
